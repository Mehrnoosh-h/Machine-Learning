{
 "cells": [
  {
   "cell_type": "markdown",
   "id": "169fc9fa",
   "metadata": {},
   "source": [
    "- trip end time should be in the same day\n",
    "- count of trips\n",
    "- avg mileage \n",
    "- avg trip_duration_seconds\t\n",
    "group by user_id and day\n",
    "can we get the time distance between 2 trips  "
   ]
  },
  {
   "cell_type": "code",
   "execution_count": 80,
   "id": "5275b103",
   "metadata": {},
   "outputs": [],
   "source": [
    "import pandas as pd\n",
    "import numpy as np\n",
    "from sklearn.preprocessing import MinMaxScaler"
   ]
  },
  {
   "cell_type": "code",
   "execution_count": 81,
   "id": "b830872b",
   "metadata": {},
   "outputs": [
    {
     "name": "stdout",
     "output_type": "stream",
     "text": [
      "(114090, 19)\n"
     ]
    }
   ],
   "source": [
    "df = pd.read_parquet('trip_summary_sept08.parquet')\n",
    "print(df.shape)"
   ]
  },
  {
   "cell_type": "code",
   "execution_count": 82,
   "id": "96e325c5",
   "metadata": {},
   "outputs": [
    {
     "name": "stderr",
     "output_type": "stream",
     "text": [
      "C:\\Users\\mehrn\\anaconda3\\Lib\\site-packages\\pandas\\core\\tools\\datetimes.py:557: RuntimeWarning: invalid value encountered in cast\n",
      "  arr, tz_parsed = tslib.array_with_unit_to_datetime(arg, unit, errors=errors)\n"
     ]
    }
   ],
   "source": [
    "df['trip_start_time'] = pd.to_datetime(df['trip_start_time_gmt'] ,  unit='s')\n",
    "df['trip_end_time'] = pd.to_datetime(df['trip_end_time_gmt'] ,  unit='s')\n",
    "df['trip_date'] = df['trip_end_time'].dt.date\n",
    "# result = df.groupby(['user-id', 'trip_date'])['trip_mileage'].mean().reset_index()"
   ]
  },
  {
   "cell_type": "code",
   "execution_count": 83,
   "id": "5cfe4e7f",
   "metadata": {},
   "outputs": [],
   "source": [
    "# Python 3 program to calculate Distance Between Two Points on Earth\n",
    "from math import radians, cos, sin, asin, sqrt\n",
    "def distance(lat1, lon1, lat2, lon2):\n",
    "    lon1 = radians(lon1)\n",
    "    lon2 = radians(lon2)\n",
    "    lat1 = radians(lat1)\n",
    "    lat2 = radians(lat2)\n",
    "      \n",
    "    # Haversine formula \n",
    "    dlon = lon2 - lon1 \n",
    "    dlat = lat2 - lat1\n",
    "    a = sin(dlat / 2)**2 + cos(lat1) * cos(lat2) * sin(dlon / 2)**2\n",
    "    c = 2 * asin(sqrt(a))   \n",
    "    # Radius of earth in miles\n",
    "    r = 3956\n",
    "    # calculate the result\n",
    "    return(c * r)"
   ]
  },
  {
   "cell_type": "code",
   "execution_count": 84,
   "id": "a1c20dd4",
   "metadata": {},
   "outputs": [],
   "source": [
    "# Calculate and store the trip mileage in a new column\n",
    "df['trip_mileage'] = df.apply(\n",
    "    lambda row: distance(row['trip_start_latitude'], row['trip_start_longitude'], row['trip_end_latitude'], row['trip_end_longitude']),\n",
    "    axis=1)"
   ]
  },
  {
   "cell_type": "code",
   "execution_count": 85,
   "id": "a6133754",
   "metadata": {},
   "outputs": [
    {
     "name": "stdout",
     "output_type": "stream",
     "text": [
      "938\n"
     ]
    }
   ],
   "source": [
    "unique_user_count = df['device_id'].nunique()\n",
    "print(unique_user_count)"
   ]
  },
  {
   "cell_type": "code",
   "execution_count": 18,
   "id": "1fdcc322",
   "metadata": {},
   "outputs": [
    {
     "data": {
      "text/plain": [
       "['trip_start_time_gmt',\n",
       " 'trip_end_time_gmt',\n",
       " 'trip_start_latitude',\n",
       " 'trip_start_longitude',\n",
       " 'trip_end_latitude',\n",
       " 'trip_duration_seconds',\n",
       " 'trip_end_longitude']"
      ]
     },
     "execution_count": 18,
     "metadata": {},
     "output_type": "execute_result"
    }
   ],
   "source": [
    "features = [\n",
    " \"trip_start_time_gmt\",\n",
    " \"trip_end_time_gmt\",\n",
    " \"trip_start_latitude\",\n",
    " \"trip_start_longitude\",\n",
    " \"trip_end_latitude\",\n",
    " \"trip_duration_seconds\",\n",
    " \"trip_end_longitude\",\n",
    " ]\n",
    "features"
   ]
  },
  {
   "cell_type": "code",
   "execution_count": 19,
   "id": "a19fde25",
   "metadata": {},
   "outputs": [],
   "source": [
    "df = df.dropna(subset = features)"
   ]
  },
  {
   "cell_type": "code",
   "execution_count": 20,
   "id": "524edf77",
   "metadata": {},
   "outputs": [],
   "source": [
    "# Group by 'user-id' and 'date', then calculate the required statistics\n",
    "results = df.groupby(['device_id', 'trip_date']).agg({'trip_mileage': 'sum', 'trip_id': 'count', 'trip_duration_seconds': 'sum'}).reset_index()\n",
    "results = results.rename(columns={'trip_mileage': 'total_mileage', 'trip_id': 'trip_count', 'trip_duration_seconds': 'total_trip_duration'})"
   ]
  },
  {
   "cell_type": "code",
   "execution_count": 21,
   "id": "63f52366",
   "metadata": {},
   "outputs": [
    {
     "data": {
      "text/html": [
       "<div>\n",
       "<style scoped>\n",
       "    .dataframe tbody tr th:only-of-type {\n",
       "        vertical-align: middle;\n",
       "    }\n",
       "\n",
       "    .dataframe tbody tr th {\n",
       "        vertical-align: top;\n",
       "    }\n",
       "\n",
       "    .dataframe thead th {\n",
       "        text-align: right;\n",
       "    }\n",
       "</style>\n",
       "<table border=\"1\" class=\"dataframe\">\n",
       "  <thead>\n",
       "    <tr style=\"text-align: right;\">\n",
       "      <th></th>\n",
       "      <th>user_id</th>\n",
       "      <th>trip_date</th>\n",
       "      <th>total_mileage</th>\n",
       "      <th>trip_count</th>\n",
       "      <th>total_trip_duration</th>\n",
       "    </tr>\n",
       "  </thead>\n",
       "  <tbody>\n",
       "    <tr>\n",
       "      <th>0</th>\n",
       "      <td>1000018963</td>\n",
       "      <td>2023-03-20</td>\n",
       "      <td>47.008533</td>\n",
       "      <td>21</td>\n",
       "      <td>17820</td>\n",
       "    </tr>\n",
       "    <tr>\n",
       "      <th>1</th>\n",
       "      <td>1000018963</td>\n",
       "      <td>2023-03-21</td>\n",
       "      <td>8.205399</td>\n",
       "      <td>12</td>\n",
       "      <td>6960</td>\n",
       "    </tr>\n",
       "    <tr>\n",
       "      <th>2</th>\n",
       "      <td>1002329</td>\n",
       "      <td>2023-05-19</td>\n",
       "      <td>39.509738</td>\n",
       "      <td>5</td>\n",
       "      <td>7068</td>\n",
       "    </tr>\n",
       "    <tr>\n",
       "      <th>3</th>\n",
       "      <td>1002329</td>\n",
       "      <td>2023-05-20</td>\n",
       "      <td>48.526633</td>\n",
       "      <td>8</td>\n",
       "      <td>8436</td>\n",
       "    </tr>\n",
       "    <tr>\n",
       "      <th>4</th>\n",
       "      <td>1002329</td>\n",
       "      <td>2023-05-22</td>\n",
       "      <td>37.002437</td>\n",
       "      <td>3</td>\n",
       "      <td>7104</td>\n",
       "    </tr>\n",
       "    <tr>\n",
       "      <th>...</th>\n",
       "      <td>...</td>\n",
       "      <td>...</td>\n",
       "      <td>...</td>\n",
       "      <td>...</td>\n",
       "      <td>...</td>\n",
       "    </tr>\n",
       "    <tr>\n",
       "      <th>20816</th>\n",
       "      <td>971996</td>\n",
       "      <td>2023-05-31</td>\n",
       "      <td>11.986519</td>\n",
       "      <td>5</td>\n",
       "      <td>4542</td>\n",
       "    </tr>\n",
       "    <tr>\n",
       "      <th>20817</th>\n",
       "      <td>996700</td>\n",
       "      <td>2023-07-25</td>\n",
       "      <td>15.095664</td>\n",
       "      <td>2</td>\n",
       "      <td>3204</td>\n",
       "    </tr>\n",
       "    <tr>\n",
       "      <th>20818</th>\n",
       "      <td>996700</td>\n",
       "      <td>2023-07-26</td>\n",
       "      <td>1.928848</td>\n",
       "      <td>1</td>\n",
       "      <td>1056</td>\n",
       "    </tr>\n",
       "    <tr>\n",
       "      <th>20819</th>\n",
       "      <td>996700</td>\n",
       "      <td>2023-07-30</td>\n",
       "      <td>19.565552</td>\n",
       "      <td>1</td>\n",
       "      <td>2154</td>\n",
       "    </tr>\n",
       "    <tr>\n",
       "      <th>20820</th>\n",
       "      <td>996700</td>\n",
       "      <td>2023-07-31</td>\n",
       "      <td>7.116556</td>\n",
       "      <td>1</td>\n",
       "      <td>990</td>\n",
       "    </tr>\n",
       "  </tbody>\n",
       "</table>\n",
       "<p>20821 rows × 5 columns</p>\n",
       "</div>"
      ],
      "text/plain": [
       "          user_id   trip_date  total_mileage  trip_count  total_trip_duration\n",
       "0      1000018963  2023-03-20      47.008533          21                17820\n",
       "1      1000018963  2023-03-21       8.205399          12                 6960\n",
       "2         1002329  2023-05-19      39.509738           5                 7068\n",
       "3         1002329  2023-05-20      48.526633           8                 8436\n",
       "4         1002329  2023-05-22      37.002437           3                 7104\n",
       "...           ...         ...            ...         ...                  ...\n",
       "20816      971996  2023-05-31      11.986519           5                 4542\n",
       "20817      996700  2023-07-25      15.095664           2                 3204\n",
       "20818      996700  2023-07-26       1.928848           1                 1056\n",
       "20819      996700  2023-07-30      19.565552           1                 2154\n",
       "20820      996700  2023-07-31       7.116556           1                  990\n",
       "\n",
       "[20821 rows x 5 columns]"
      ]
     },
     "execution_count": 21,
     "metadata": {},
     "output_type": "execute_result"
    }
   ],
   "source": [
    "results"
   ]
  },
  {
   "cell_type": "code",
   "execution_count": 24,
   "id": "71afe0e4",
   "metadata": {},
   "outputs": [
    {
     "data": {
      "text/plain": [
       "['total_mileage', 'trip_count', 'total_trip_duration']"
      ]
     },
     "execution_count": 24,
     "metadata": {},
     "output_type": "execute_result"
    }
   ],
   "source": [
    "features = [\"total_mileage\" , \"trip_count\", \"total_trip_duration\"]\n",
    "features"
   ]
  },
  {
   "cell_type": "code",
   "execution_count": 27,
   "id": "9931ca4d",
   "metadata": {},
   "outputs": [
    {
     "name": "stdout",
     "output_type": "stream",
     "text": [
      "(20821, 3)\n"
     ]
    }
   ],
   "source": [
    "data = results[features].copy()\n",
    "print(data.shape)"
   ]
  },
  {
   "cell_type": "markdown",
   "id": "7b2b09d8",
   "metadata": {},
   "source": [
    "STEPS:\n",
    "1. Scale data to standardize values\n",
    "2. Initialize random centroids\n",
    "3. Get labels for each data point\n",
    "4. Create new centroids\n",
    "5. Plot the centroids\n",
    "6. Repeat 3-5 until the centroids stop changing"
   ]
  },
  {
   "cell_type": "code",
   "execution_count": 29,
   "id": "71407e97",
   "metadata": {},
   "outputs": [
    {
     "data": {
      "text/html": [
       "<div>\n",
       "<style scoped>\n",
       "    .dataframe tbody tr th:only-of-type {\n",
       "        vertical-align: middle;\n",
       "    }\n",
       "\n",
       "    .dataframe tbody tr th {\n",
       "        vertical-align: top;\n",
       "    }\n",
       "\n",
       "    .dataframe thead th {\n",
       "        text-align: right;\n",
       "    }\n",
       "</style>\n",
       "<table border=\"1\" class=\"dataframe\">\n",
       "  <thead>\n",
       "    <tr style=\"text-align: right;\">\n",
       "      <th></th>\n",
       "      <th>total_mileage</th>\n",
       "      <th>trip_count</th>\n",
       "      <th>total_trip_duration</th>\n",
       "    </tr>\n",
       "  </thead>\n",
       "  <tbody>\n",
       "    <tr>\n",
       "      <th>0</th>\n",
       "      <td>1.066684</td>\n",
       "      <td>2.980198</td>\n",
       "      <td>2.579283</td>\n",
       "    </tr>\n",
       "    <tr>\n",
       "      <th>1</th>\n",
       "      <td>1.011640</td>\n",
       "      <td>2.089109</td>\n",
       "      <td>1.616824</td>\n",
       "    </tr>\n",
       "    <tr>\n",
       "      <th>2</th>\n",
       "      <td>1.056047</td>\n",
       "      <td>1.396040</td>\n",
       "      <td>1.626396</td>\n",
       "    </tr>\n",
       "    <tr>\n",
       "      <th>3</th>\n",
       "      <td>1.068838</td>\n",
       "      <td>1.693069</td>\n",
       "      <td>1.747634</td>\n",
       "    </tr>\n",
       "    <tr>\n",
       "      <th>4</th>\n",
       "      <td>1.052490</td>\n",
       "      <td>1.198020</td>\n",
       "      <td>1.629586</td>\n",
       "    </tr>\n",
       "  </tbody>\n",
       "</table>\n",
       "</div>"
      ],
      "text/plain": [
       "   total_mileage  trip_count  total_trip_duration\n",
       "0       1.066684    2.980198             2.579283\n",
       "1       1.011640    2.089109             1.616824\n",
       "2       1.056047    1.396040             1.626396\n",
       "3       1.068838    1.693069             1.747634\n",
       "4       1.052490    1.198020             1.629586"
      ]
     },
     "execution_count": 29,
     "metadata": {},
     "output_type": "execute_result"
    }
   ],
   "source": [
    "scale_vars = ['total_mileage', 'trip_count', 'total_trip_duration']\n",
    "scaler = MinMaxScaler()\n",
    "data[scale_vars] = scaler.fit_transform(data[scale_vars]) * 10 + 1\n",
    "data.head()"
   ]
  },
  {
   "cell_type": "code",
   "execution_count": 30,
   "id": "bcad688c",
   "metadata": {},
   "outputs": [
    {
     "data": {
      "text/html": [
       "<div>\n",
       "<style scoped>\n",
       "    .dataframe tbody tr th:only-of-type {\n",
       "        vertical-align: middle;\n",
       "    }\n",
       "\n",
       "    .dataframe tbody tr th {\n",
       "        vertical-align: top;\n",
       "    }\n",
       "\n",
       "    .dataframe thead th {\n",
       "        text-align: right;\n",
       "    }\n",
       "</style>\n",
       "<table border=\"1\" class=\"dataframe\">\n",
       "  <thead>\n",
       "    <tr style=\"text-align: right;\">\n",
       "      <th></th>\n",
       "      <th>total_mileage</th>\n",
       "      <th>trip_count</th>\n",
       "      <th>total_trip_duration</th>\n",
       "    </tr>\n",
       "  </thead>\n",
       "  <tbody>\n",
       "    <tr>\n",
       "      <th>count</th>\n",
       "      <td>20821.000000</td>\n",
       "      <td>20821.000000</td>\n",
       "      <td>20821.000000</td>\n",
       "    </tr>\n",
       "    <tr>\n",
       "      <th>mean</th>\n",
       "      <td>1.053067</td>\n",
       "      <td>1.398560</td>\n",
       "      <td>1.575434</td>\n",
       "    </tr>\n",
       "    <tr>\n",
       "      <th>std</th>\n",
       "      <td>0.114502</td>\n",
       "      <td>0.423579</td>\n",
       "      <td>0.609239</td>\n",
       "    </tr>\n",
       "    <tr>\n",
       "      <th>min</th>\n",
       "      <td>1.000000</td>\n",
       "      <td>1.000000</td>\n",
       "      <td>1.000000</td>\n",
       "    </tr>\n",
       "    <tr>\n",
       "      <th>25%</th>\n",
       "      <td>1.008488</td>\n",
       "      <td>1.099010</td>\n",
       "      <td>1.199936</td>\n",
       "    </tr>\n",
       "    <tr>\n",
       "      <th>50%</th>\n",
       "      <td>1.025138</td>\n",
       "      <td>1.297030</td>\n",
       "      <td>1.403063</td>\n",
       "    </tr>\n",
       "    <tr>\n",
       "      <th>75%</th>\n",
       "      <td>1.060611</td>\n",
       "      <td>1.495050</td>\n",
       "      <td>1.727959</td>\n",
       "    </tr>\n",
       "    <tr>\n",
       "      <th>max</th>\n",
       "      <td>11.000000</td>\n",
       "      <td>11.000000</td>\n",
       "      <td>11.000000</td>\n",
       "    </tr>\n",
       "  </tbody>\n",
       "</table>\n",
       "</div>"
      ],
      "text/plain": [
       "       total_mileage    trip_count  total_trip_duration\n",
       "count   20821.000000  20821.000000         20821.000000\n",
       "mean        1.053067      1.398560             1.575434\n",
       "std         0.114502      0.423579             0.609239\n",
       "min         1.000000      1.000000             1.000000\n",
       "25%         1.008488      1.099010             1.199936\n",
       "50%         1.025138      1.297030             1.403063\n",
       "75%         1.060611      1.495050             1.727959\n",
       "max        11.000000     11.000000            11.000000"
      ]
     },
     "execution_count": 30,
     "metadata": {},
     "output_type": "execute_result"
    }
   ],
   "source": [
    "data.describe()"
   ]
  },
  {
   "cell_type": "code",
   "execution_count": 31,
   "id": "91a35cde",
   "metadata": {},
   "outputs": [],
   "source": [
    "def random_centroids(data, k):\n",
    "    centroids = []\n",
    "    for i in range(k):\n",
    "        centroid = data.apply(lambda x: float(x.sample()))\n",
    "        centroids.append(centroid)\n",
    "    return pd.concat(centroids, axis=1)"
   ]
  },
  {
   "cell_type": "code",
   "execution_count": 32,
   "id": "240925bc",
   "metadata": {},
   "outputs": [
    {
     "data": {
      "text/html": [
       "<div>\n",
       "<style scoped>\n",
       "    .dataframe tbody tr th:only-of-type {\n",
       "        vertical-align: middle;\n",
       "    }\n",
       "\n",
       "    .dataframe tbody tr th {\n",
       "        vertical-align: top;\n",
       "    }\n",
       "\n",
       "    .dataframe thead th {\n",
       "        text-align: right;\n",
       "    }\n",
       "</style>\n",
       "<table border=\"1\" class=\"dataframe\">\n",
       "  <thead>\n",
       "    <tr style=\"text-align: right;\">\n",
       "      <th></th>\n",
       "      <th>0</th>\n",
       "      <th>1</th>\n",
       "      <th>2</th>\n",
       "    </tr>\n",
       "  </thead>\n",
       "  <tbody>\n",
       "    <tr>\n",
       "      <th>total_mileage</th>\n",
       "      <td>1.029001</td>\n",
       "      <td>1.032283</td>\n",
       "      <td>1.000014</td>\n",
       "    </tr>\n",
       "    <tr>\n",
       "      <th>trip_count</th>\n",
       "      <td>1.198020</td>\n",
       "      <td>1.990099</td>\n",
       "      <td>1.594059</td>\n",
       "    </tr>\n",
       "    <tr>\n",
       "      <th>total_trip_duration</th>\n",
       "      <td>1.150484</td>\n",
       "      <td>1.267468</td>\n",
       "      <td>1.305753</td>\n",
       "    </tr>\n",
       "  </tbody>\n",
       "</table>\n",
       "</div>"
      ],
      "text/plain": [
       "                            0         1         2\n",
       "total_mileage        1.029001  1.032283  1.000014\n",
       "trip_count           1.198020  1.990099  1.594059\n",
       "total_trip_duration  1.150484  1.267468  1.305753"
      ]
     },
     "execution_count": 32,
     "metadata": {},
     "output_type": "execute_result"
    }
   ],
   "source": [
    "centroids = random_centroids(data, 3)\n",
    "centroids"
   ]
  },
  {
   "cell_type": "code",
   "execution_count": 33,
   "id": "084ee1ef",
   "metadata": {},
   "outputs": [],
   "source": [
    "def get_labels(data, centroids):\n",
    "    distances = centroids.apply(lambda x: np.sqrt(((data - x) ** 2).sum(axis=1)))\n",
    "    return distances.idxmin(axis=1)"
   ]
  },
  {
   "cell_type": "code",
   "execution_count": 34,
   "id": "5c031ffa",
   "metadata": {},
   "outputs": [],
   "source": [
    "labels = get_labels(data, centroids)"
   ]
  },
  {
   "cell_type": "code",
   "execution_count": 35,
   "id": "84448da4",
   "metadata": {},
   "outputs": [
    {
     "data": {
      "text/plain": [
       "0    10758\n",
       "2     7921\n",
       "1     2142\n",
       "dtype: int64"
      ]
     },
     "execution_count": 35,
     "metadata": {},
     "output_type": "execute_result"
    }
   ],
   "source": [
    "labels.value_counts()"
   ]
  },
  {
   "cell_type": "code",
   "execution_count": 38,
   "id": "b0aca7cd",
   "metadata": {},
   "outputs": [],
   "source": [
    "def new_centroids(data, labels, k):\n",
    "    centroids = data.groupby(labels).apply(lambda x: np.exp(np.log(x).mean())).T\n",
    "    return centroids"
   ]
  },
  {
   "cell_type": "code",
   "execution_count": 39,
   "id": "e4b88e9b",
   "metadata": {},
   "outputs": [],
   "source": [
    "from sklearn.decomposition import PCA\n",
    "import matplotlib.pyplot as plt\n",
    "from IPython.display import clear_output"
   ]
  },
  {
   "cell_type": "code",
   "execution_count": 40,
   "id": "a128c617",
   "metadata": {},
   "outputs": [],
   "source": [
    "def plot_clusters(data, labels, centroids, iteration):\n",
    "    pca = PCA(n_components=2)\n",
    "    data_2d = pca.fit_transform(data)\n",
    "    centroids_2d = pca.transform(centroids.T)\n",
    "    clear_output(wait=True)\n",
    "    plt.title(f'Iteration {iteration}')\n",
    "    plt.scatter(x=data_2d[:,0], y=data_2d[:,1], c=labels)\n",
    "    plt.scatter(x=centroids_2d[:,0], y=centroids_2d[:,1])\n",
    "    plt.show()"
   ]
  },
  {
   "cell_type": "code",
   "execution_count": 41,
   "id": "71f691bb",
   "metadata": {},
   "outputs": [
    {
     "data": {
      "image/png": "[encoded data removed]",
      "text/plain": [
       "<Figure size 640x480 with 1 Axes>"
      ]
     },
     "metadata": {},
     "output_type": "display_data"
    }
   ],
   "source": [
    "max_iterations = 100\n",
    "centroid_count = 2\n",
    "\n",
    "centroids = random_centroids(data, centroid_count)\n",
    "old_centroids = pd.DataFrame()\n",
    "iteration = 1\n",
    "\n",
    "while iteration < max_iterations and not centroids.equals(old_centroids):\n",
    "    old_centroids = centroids\n",
    "    \n",
    "    labels = get_labels(data, centroids)\n",
    "    centroids = new_centroids(data, labels, centroid_count)\n",
    "    plot_clusters(data, labels, centroids, iteration)\n",
    "    iteration += 1"
   ]
  },
  {
   "cell_type": "code",
   "execution_count": 42,
   "id": "c1fbc594",
   "metadata": {},
   "outputs": [
    {
     "data": {
      "text/html": [
       "<div>\n",
       "<style scoped>\n",
       "    .dataframe tbody tr th:only-of-type {\n",
       "        vertical-align: middle;\n",
       "    }\n",
       "\n",
       "    .dataframe tbody tr th {\n",
       "        vertical-align: top;\n",
       "    }\n",
       "\n",
       "    .dataframe thead th {\n",
       "        text-align: right;\n",
       "    }\n",
       "</style>\n",
       "<table border=\"1\" class=\"dataframe\">\n",
       "  <thead>\n",
       "    <tr style=\"text-align: right;\">\n",
       "      <th></th>\n",
       "      <th>0</th>\n",
       "      <th>1</th>\n",
       "    </tr>\n",
       "  </thead>\n",
       "  <tbody>\n",
       "    <tr>\n",
       "      <th>total_mileage</th>\n",
       "      <td>1.134808</td>\n",
       "      <td>1.026338</td>\n",
       "    </tr>\n",
       "    <tr>\n",
       "      <th>trip_count</th>\n",
       "      <td>1.839747</td>\n",
       "      <td>1.237853</td>\n",
       "    </tr>\n",
       "    <tr>\n",
       "      <th>total_trip_duration</th>\n",
       "      <td>2.309138</td>\n",
       "      <td>1.321483</td>\n",
       "    </tr>\n",
       "  </tbody>\n",
       "</table>\n",
       "</div>"
      ],
      "text/plain": [
       "                            0         1\n",
       "total_mileage        1.134808  1.026338\n",
       "trip_count           1.839747  1.237853\n",
       "total_trip_duration  2.309138  1.321483"
      ]
     },
     "execution_count": 42,
     "metadata": {},
     "output_type": "execute_result"
    }
   ],
   "source": [
    "centroids"
   ]
  },
  {
   "cell_type": "code",
   "execution_count": 43,
   "id": "155b686c",
   "metadata": {},
   "outputs": [
    {
     "data": {
      "text/plain": [
       "1    16176\n",
       "0     4645\n",
       "dtype: int64"
      ]
     },
     "execution_count": 43,
     "metadata": {},
     "output_type": "execute_result"
    }
   ],
   "source": [
    "labels.value_counts()"
   ]
  },
  {
   "cell_type": "code",
   "execution_count": 44,
   "id": "e27530cb",
   "metadata": {
    "scrolled": true
   },
   "outputs": [
    {
     "data": {
      "text/html": [
       "<div>\n",
       "<style scoped>\n",
       "    .dataframe tbody tr th:only-of-type {\n",
       "        vertical-align: middle;\n",
       "    }\n",
       "\n",
       "    .dataframe tbody tr th {\n",
       "        vertical-align: top;\n",
       "    }\n",
       "\n",
       "    .dataframe thead th {\n",
       "        text-align: right;\n",
       "    }\n",
       "</style>\n",
       "<table border=\"1\" class=\"dataframe\">\n",
       "  <thead>\n",
       "    <tr style=\"text-align: right;\">\n",
       "      <th></th>\n",
       "      <th>user_id</th>\n",
       "      <th>total_mileage</th>\n",
       "      <th>trip_count</th>\n",
       "      <th>total_trip_duration</th>\n",
       "    </tr>\n",
       "  </thead>\n",
       "  <tbody>\n",
       "    <tr>\n",
       "      <th>2</th>\n",
       "      <td>1002329</td>\n",
       "      <td>39.509738</td>\n",
       "      <td>5</td>\n",
       "      <td>7068</td>\n",
       "    </tr>\n",
       "    <tr>\n",
       "      <th>4</th>\n",
       "      <td>1002329</td>\n",
       "      <td>37.002437</td>\n",
       "      <td>3</td>\n",
       "      <td>7104</td>\n",
       "    </tr>\n",
       "    <tr>\n",
       "      <th>7</th>\n",
       "      <td>1002329</td>\n",
       "      <td>29.250780</td>\n",
       "      <td>3</td>\n",
       "      <td>8304</td>\n",
       "    </tr>\n",
       "    <tr>\n",
       "      <th>8</th>\n",
       "      <td>1002329</td>\n",
       "      <td>28.726352</td>\n",
       "      <td>3</td>\n",
       "      <td>3984</td>\n",
       "    </tr>\n",
       "    <tr>\n",
       "      <th>9</th>\n",
       "      <td>1002329</td>\n",
       "      <td>86.311957</td>\n",
       "      <td>2</td>\n",
       "      <td>9492</td>\n",
       "    </tr>\n",
       "    <tr>\n",
       "      <th>...</th>\n",
       "      <td>...</td>\n",
       "      <td>...</td>\n",
       "      <td>...</td>\n",
       "      <td>...</td>\n",
       "    </tr>\n",
       "    <tr>\n",
       "      <th>20816</th>\n",
       "      <td>971996</td>\n",
       "      <td>11.986519</td>\n",
       "      <td>5</td>\n",
       "      <td>4542</td>\n",
       "    </tr>\n",
       "    <tr>\n",
       "      <th>20817</th>\n",
       "      <td>996700</td>\n",
       "      <td>15.095664</td>\n",
       "      <td>2</td>\n",
       "      <td>3204</td>\n",
       "    </tr>\n",
       "    <tr>\n",
       "      <th>20818</th>\n",
       "      <td>996700</td>\n",
       "      <td>1.928848</td>\n",
       "      <td>1</td>\n",
       "      <td>1056</td>\n",
       "    </tr>\n",
       "    <tr>\n",
       "      <th>20819</th>\n",
       "      <td>996700</td>\n",
       "      <td>19.565552</td>\n",
       "      <td>1</td>\n",
       "      <td>2154</td>\n",
       "    </tr>\n",
       "    <tr>\n",
       "      <th>20820</th>\n",
       "      <td>996700</td>\n",
       "      <td>7.116556</td>\n",
       "      <td>1</td>\n",
       "      <td>990</td>\n",
       "    </tr>\n",
       "  </tbody>\n",
       "</table>\n",
       "<p>16176 rows × 4 columns</p>\n",
       "</div>"
      ],
      "text/plain": [
       "       user_id  total_mileage  trip_count  total_trip_duration\n",
       "2      1002329      39.509738           5                 7068\n",
       "4      1002329      37.002437           3                 7104\n",
       "7      1002329      29.250780           3                 8304\n",
       "8      1002329      28.726352           3                 3984\n",
       "9      1002329      86.311957           2                 9492\n",
       "...        ...            ...         ...                  ...\n",
       "20816   971996      11.986519           5                 4542\n",
       "20817   996700      15.095664           2                 3204\n",
       "20818   996700       1.928848           1                 1056\n",
       "20819   996700      19.565552           1                 2154\n",
       "20820   996700       7.116556           1                  990\n",
       "\n",
       "[16176 rows x 4 columns]"
      ]
     },
     "execution_count": 44,
     "metadata": {},
     "output_type": "execute_result"
    }
   ],
   "source": [
    "results[labels == 1][[\"device_id\"] + features]"
   ]
  },
  {
   "cell_type": "code",
   "execution_count": 45,
   "id": "85d469ec",
   "metadata": {},
   "outputs": [
    {
     "data": {
      "text/html": [
       "<div>\n",
       "<style scoped>\n",
       "    .dataframe tbody tr th:only-of-type {\n",
       "        vertical-align: middle;\n",
       "    }\n",
       "\n",
       "    .dataframe tbody tr th {\n",
       "        vertical-align: top;\n",
       "    }\n",
       "\n",
       "    .dataframe thead th {\n",
       "        text-align: right;\n",
       "    }\n",
       "</style>\n",
       "<table border=\"1\" class=\"dataframe\">\n",
       "  <thead>\n",
       "    <tr style=\"text-align: right;\">\n",
       "      <th></th>\n",
       "      <th>user_id</th>\n",
       "      <th>total_mileage</th>\n",
       "      <th>trip_count</th>\n",
       "      <th>total_trip_duration</th>\n",
       "    </tr>\n",
       "  </thead>\n",
       "  <tbody>\n",
       "    <tr>\n",
       "      <th>0</th>\n",
       "      <td>1000018963</td>\n",
       "      <td>47.008533</td>\n",
       "      <td>21</td>\n",
       "      <td>17820</td>\n",
       "    </tr>\n",
       "    <tr>\n",
       "      <th>1</th>\n",
       "      <td>1000018963</td>\n",
       "      <td>8.205399</td>\n",
       "      <td>12</td>\n",
       "      <td>6960</td>\n",
       "    </tr>\n",
       "    <tr>\n",
       "      <th>3</th>\n",
       "      <td>1002329</td>\n",
       "      <td>48.526633</td>\n",
       "      <td>8</td>\n",
       "      <td>8436</td>\n",
       "    </tr>\n",
       "    <tr>\n",
       "      <th>5</th>\n",
       "      <td>1002329</td>\n",
       "      <td>50.175308</td>\n",
       "      <td>10</td>\n",
       "      <td>14244</td>\n",
       "    </tr>\n",
       "    <tr>\n",
       "      <th>6</th>\n",
       "      <td>1002329</td>\n",
       "      <td>46.353913</td>\n",
       "      <td>5</td>\n",
       "      <td>10230</td>\n",
       "    </tr>\n",
       "    <tr>\n",
       "      <th>...</th>\n",
       "      <td>...</td>\n",
       "      <td>...</td>\n",
       "      <td>...</td>\n",
       "      <td>...</td>\n",
       "    </tr>\n",
       "    <tr>\n",
       "      <th>20805</th>\n",
       "      <td>944145</td>\n",
       "      <td>154.419542</td>\n",
       "      <td>7</td>\n",
       "      <td>17244</td>\n",
       "    </tr>\n",
       "    <tr>\n",
       "      <th>20809</th>\n",
       "      <td>944145</td>\n",
       "      <td>188.702843</td>\n",
       "      <td>12</td>\n",
       "      <td>32790</td>\n",
       "    </tr>\n",
       "    <tr>\n",
       "      <th>20810</th>\n",
       "      <td>944145</td>\n",
       "      <td>122.675528</td>\n",
       "      <td>14</td>\n",
       "      <td>25836</td>\n",
       "    </tr>\n",
       "    <tr>\n",
       "      <th>20811</th>\n",
       "      <td>944145</td>\n",
       "      <td>83.628062</td>\n",
       "      <td>11</td>\n",
       "      <td>13716</td>\n",
       "    </tr>\n",
       "    <tr>\n",
       "      <th>20815</th>\n",
       "      <td>971996</td>\n",
       "      <td>47.961350</td>\n",
       "      <td>10</td>\n",
       "      <td>9648</td>\n",
       "    </tr>\n",
       "  </tbody>\n",
       "</table>\n",
       "<p>4645 rows × 4 columns</p>\n",
       "</div>"
      ],
      "text/plain": [
       "          user_id  total_mileage  trip_count  total_trip_duration\n",
       "0      1000018963      47.008533          21                17820\n",
       "1      1000018963       8.205399          12                 6960\n",
       "3         1002329      48.526633           8                 8436\n",
       "5         1002329      50.175308          10                14244\n",
       "6         1002329      46.353913           5                10230\n",
       "...           ...            ...         ...                  ...\n",
       "20805      944145     154.419542           7                17244\n",
       "20809      944145     188.702843          12                32790\n",
       "20810      944145     122.675528          14                25836\n",
       "20811      944145      83.628062          11                13716\n",
       "20815      971996      47.961350          10                 9648\n",
       "\n",
       "[4645 rows x 4 columns]"
      ]
     },
     "execution_count": 45,
     "metadata": {},
     "output_type": "execute_result"
    }
   ],
   "source": [
    "results[labels == 0][[\"device_id\"] + features]"
   ]
  },
  {
   "cell_type": "code",
   "execution_count": 46,
   "id": "90b9c441",
   "metadata": {},
   "outputs": [],
   "source": [
    "from sklearn.cluster import KMeans"
   ]
  },
  {
   "cell_type": "code",
   "execution_count": 47,
   "id": "6e81ae7a",
   "metadata": {},
   "outputs": [
    {
     "name": "stderr",
     "output_type": "stream",
     "text": [
      "C:\\Users\\mehrn\\anaconda3\\Lib\\site-packages\\sklearn\\cluster\\_kmeans.py:1412: FutureWarning: The default value of `n_init` will change from 10 to 'auto' in 1.4. Set the value of `n_init` explicitly to suppress the warning\n",
      "  super()._check_params_vs_input(X, default_n_init=10)\n"
     ]
    },
    {
     "data": {
      "text/html": [
       "<style>#sk-container-id-1 {color: black;}#sk-container-id-1 pre{padding: 0;}#sk-container-id-1 div.sk-toggleable {background-color: white;}#sk-container-id-1 label.sk-toggleable__label {cursor: pointer;display: block;width: 100%;margin-bottom: 0;padding: 0.3em;box-sizing: border-box;text-align: center;}#sk-container-id-1 label.sk-toggleable__label-arrow:before {content: \"▸\";float: left;margin-right: 0.25em;color: #696969;}#sk-container-id-1 label.sk-toggleable__label-arrow:hover:before {color: black;}#sk-container-id-1 div.sk-estimator:hover label.sk-toggleable__label-arrow:before {color: black;}#sk-container-id-1 div.sk-toggleable__content {max-height: 0;max-width: 0;overflow: hidden;text-align: left;background-color: #f0f8ff;}#sk-container-id-1 div.sk-toggleable__content pre {margin: 0.2em;color: black;border-radius: 0.25em;background-color: #f0f8ff;}#sk-container-id-1 input.sk-toggleable__control:checked~div.sk-toggleable__content {max-height: 200px;max-width: 100%;overflow: auto;}#sk-container-id-1 input.sk-toggleable__control:checked~label.sk-toggleable__label-arrow:before {content: \"▾\";}#sk-container-id-1 div.sk-estimator input.sk-toggleable__control:checked~label.sk-toggleable__label {background-color: #d4ebff;}#sk-container-id-1 div.sk-label input.sk-toggleable__control:checked~label.sk-toggleable__label {background-color: #d4ebff;}#sk-container-id-1 input.sk-hidden--visually {border: 0;clip: rect(1px 1px 1px 1px);clip: rect(1px, 1px, 1px, 1px);height: 1px;margin: -1px;overflow: hidden;padding: 0;position: absolute;width: 1px;}#sk-container-id-1 div.sk-estimator {font-family: monospace;background-color: #f0f8ff;border: 1px dotted black;border-radius: 0.25em;box-sizing: border-box;margin-bottom: 0.5em;}#sk-container-id-1 div.sk-estimator:hover {background-color: #d4ebff;}#sk-container-id-1 div.sk-parallel-item::after {content: \"\";width: 100%;border-bottom: 1px solid gray;flex-grow: 1;}#sk-container-id-1 div.sk-label:hover label.sk-toggleable__label {background-color: #d4ebff;}#sk-container-id-1 div.sk-serial::before {content: \"\";position: absolute;border-left: 1px solid gray;box-sizing: border-box;top: 0;bottom: 0;left: 50%;z-index: 0;}#sk-container-id-1 div.sk-serial {display: flex;flex-direction: column;align-items: center;background-color: white;padding-right: 0.2em;padding-left: 0.2em;position: relative;}#sk-container-id-1 div.sk-item {position: relative;z-index: 1;}#sk-container-id-1 div.sk-parallel {display: flex;align-items: stretch;justify-content: center;background-color: white;position: relative;}#sk-container-id-1 div.sk-item::before, #sk-container-id-1 div.sk-parallel-item::before {content: \"\";position: absolute;border-left: 1px solid gray;box-sizing: border-box;top: 0;bottom: 0;left: 50%;z-index: -1;}#sk-container-id-1 div.sk-parallel-item {display: flex;flex-direction: column;z-index: 1;position: relative;background-color: white;}#sk-container-id-1 div.sk-parallel-item:first-child::after {align-self: flex-end;width: 50%;}#sk-container-id-1 div.sk-parallel-item:last-child::after {align-self: flex-start;width: 50%;}#sk-container-id-1 div.sk-parallel-item:only-child::after {width: 0;}#sk-container-id-1 div.sk-dashed-wrapped {border: 1px dashed gray;margin: 0 0.4em 0.5em 0.4em;box-sizing: border-box;padding-bottom: 0.4em;background-color: white;}#sk-container-id-1 div.sk-label label {font-family: monospace;font-weight: bold;display: inline-block;line-height: 1.2em;}#sk-container-id-1 div.sk-label-container {text-align: center;}#sk-container-id-1 div.sk-container {/* jupyter's `normalize.less` sets `[hidden] { display: none; }` but bootstrap.min.css set `[hidden] { display: none !important; }` so we also need the `!important` here to be able to override the default hidden behavior on the sphinx rendered scikit-learn.org. See: https://github.com/scikit-learn/scikit-learn/issues/21755 */display: inline-block !important;position: relative;}#sk-container-id-1 div.sk-text-repr-fallback {display: none;}</style><div id=\"sk-container-id-1\" class=\"sk-top-container\"><div class=\"sk-text-repr-fallback\"><pre>KMeans(n_clusters=3)</pre><b>In a Jupyter environment, please rerun this cell to show the HTML representation or trust the notebook. <br />On GitHub, the HTML representation is unable to render, please try loading this page with nbviewer.org.</b></div><div class=\"sk-container\" hidden><div class=\"sk-item\"><div class=\"sk-estimator sk-toggleable\"><input class=\"sk-toggleable__control sk-hidden--visually\" id=\"sk-estimator-id-1\" type=\"checkbox\" checked><label for=\"sk-estimator-id-1\" class=\"sk-toggleable__label sk-toggleable__label-arrow\">KMeans</label><div class=\"sk-toggleable__content\"><pre>KMeans(n_clusters=3)</pre></div></div></div></div></div>"
      ],
      "text/plain": [
       "KMeans(n_clusters=3)"
      ]
     },
     "execution_count": 47,
     "metadata": {},
     "output_type": "execute_result"
    }
   ],
   "source": [
    "kmeans = KMeans(3)\n",
    "kmeans.fit(data)"
   ]
  },
  {
   "cell_type": "code",
   "execution_count": 49,
   "id": "b60a47c1",
   "metadata": {},
   "outputs": [
    {
     "data": {
      "text/html": [
       "<div>\n",
       "<style scoped>\n",
       "    .dataframe tbody tr th:only-of-type {\n",
       "        vertical-align: middle;\n",
       "    }\n",
       "\n",
       "    .dataframe tbody tr th {\n",
       "        vertical-align: top;\n",
       "    }\n",
       "\n",
       "    .dataframe thead th {\n",
       "        text-align: right;\n",
       "    }\n",
       "</style>\n",
       "<table border=\"1\" class=\"dataframe\">\n",
       "  <thead>\n",
       "    <tr style=\"text-align: right;\">\n",
       "      <th></th>\n",
       "      <th>0</th>\n",
       "      <th>1</th>\n",
       "      <th>2</th>\n",
       "    </tr>\n",
       "  </thead>\n",
       "  <tbody>\n",
       "    <tr>\n",
       "      <th>total_mileage</th>\n",
       "      <td>1.299557</td>\n",
       "      <td>1.021971</td>\n",
       "      <td>1.085911</td>\n",
       "    </tr>\n",
       "    <tr>\n",
       "      <th>trip_count</th>\n",
       "      <td>2.324688</td>\n",
       "      <td>1.206692</td>\n",
       "      <td>1.700141</td>\n",
       "    </tr>\n",
       "    <tr>\n",
       "      <th>total_trip_duration</th>\n",
       "      <td>3.565573</td>\n",
       "      <td>1.285630</td>\n",
       "      <td>1.932606</td>\n",
       "    </tr>\n",
       "  </tbody>\n",
       "</table>\n",
       "</div>"
      ],
      "text/plain": [
       "                            0         1         2\n",
       "total_mileage        1.299557  1.021971  1.085911\n",
       "trip_count           2.324688  1.206692  1.700141\n",
       "total_trip_duration  3.565573  1.285630  1.932606"
      ]
     },
     "execution_count": 49,
     "metadata": {},
     "output_type": "execute_result"
    }
   ],
   "source": [
    "pd.DataFrame(kmeans.cluster_centers_, columns=features).T\n"
   ]
  },
  {
   "cell_type": "code",
   "execution_count": null,
   "id": "f947703d",
   "metadata": {},
   "outputs": [],
   "source": []
  }
 ],
 "metadata": {
  "kernelspec": {
   "display_name": "Python 3 (ipykernel)",
   "language": "python",
   "name": "python3"
  },
  "language_info": {
   "codemirror_mode": {
    "name": "ipython",
    "version": 3
   },
   "file_extension": ".py",
   "mimetype": "text/x-python",
   "name": "python",
   "nbconvert_exporter": "python",
   "pygments_lexer": "ipython3",
   "version": "3.11.4"
  }
 },
 "nbformat": 4,
 "nbformat_minor": 5
}
